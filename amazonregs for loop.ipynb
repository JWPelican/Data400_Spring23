{
 "cells": [
  {
   "cell_type": "code",
   "execution_count": 1,
   "metadata": {},
   "outputs": [],
   "source": [
    "import numpy as np"
   ]
  },
  {
   "cell_type": "code",
   "execution_count": 3,
   "metadata": {},
   "outputs": [
    {
     "name": "stdout",
     "output_type": "stream",
     "text": [
      "treat7 treat\n",
      "treat8 treat\n",
      "treat9 treat\n",
      "treat10 treat\n",
      "treat11 treat\n",
      "treat12 treat\n",
      "treat13 treat\n",
      "treat14 treat\n",
      "treat15 treat\n",
      "treat16 treat\n",
      "treat17 treat\n",
      "treat18 treat\n",
      "treat19 treat\n",
      "treat20 treat\n",
      "treat21 treat\n",
      "treat22 treat\n",
      "treat23 treat\n",
      "treat24 treat\n",
      "treat25 treat\n",
      "treat26 treat\n",
      "treat27 treat\n",
      "treat28 treat\n",
      "treat29 treat\n",
      "treat30 treat\n",
      "treat31 treat\n",
      "treat32 treat\n",
      "treat33 treat\n",
      "treat34 treat\n",
      "treat35 treat\n"
     ]
    }
   ],
   "source": [
    "for i in range(17,36):\n",
    "    print(\"treattt{} treat\".format(i))"
   ]
  },
  {
   "cell_type": "code",
   "execution_count": null,
   "metadata": {},
   "outputs": [],
   "source": []
  }
 ],
 "metadata": {
  "kernelspec": {
   "display_name": "Python 3",
   "language": "python",
   "name": "python3"
  },
  "language_info": {
   "codemirror_mode": {
    "name": "ipython",
    "version": 3
   },
   "file_extension": ".py",
   "mimetype": "text/x-python",
   "name": "python",
   "nbconvert_exporter": "python",
   "pygments_lexer": "ipython3",
   "version": "3.7.6"
  }
 },
 "nbformat": 4,
 "nbformat_minor": 4
}
